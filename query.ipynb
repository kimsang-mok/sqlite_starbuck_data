{
 "cells": [
  {
   "cell_type": "code",
   "execution_count": 44,
   "metadata": {},
   "outputs": [],
   "source": [
    "import sqlite3 as sl"
   ]
  },
  {
   "cell_type": "code",
   "execution_count": 45,
   "metadata": {},
   "outputs": [],
   "source": [
    "conn = sl.connect('starbucks.db')"
   ]
  },
  {
   "cell_type": "code",
   "execution_count": 46,
   "metadata": {},
   "outputs": [],
   "source": [
    "cursor = conn.cursor()"
   ]
  },
  {
   "cell_type": "code",
   "execution_count": 83,
   "metadata": {},
   "outputs": [],
   "source": [
    "create_table_query = '''\n",
    "CREATE TABLE IF NOT EXISTS category (\n",
    "                id INTEGER NOT NULL PRIMARY KEY,\n",
    "                categories TEXT NOT NULL\n",
    "                )\n",
    "'''"
   ]
  },
  {
   "cell_type": "code",
   "execution_count": 84,
   "metadata": {},
   "outputs": [
    {
     "data": {
      "text/plain": [
       "<sqlite3.Cursor at 0x108b7e040>"
      ]
     },
     "execution_count": 84,
     "metadata": {},
     "output_type": "execute_result"
    }
   ],
   "source": [
    "cursor.execute(create_table_query)"
   ]
  },
  {
   "cell_type": "code",
   "execution_count": 85,
   "metadata": {},
   "outputs": [
    {
     "data": {
      "text/plain": [
       "<sqlite3.Cursor at 0x108b7e040>"
      ]
     },
     "execution_count": 85,
     "metadata": {},
     "output_type": "execute_result"
    }
   ],
   "source": [
    "cat_name = [\n",
    "    ('Drinks',),\n",
    "    ('Food',),\n",
    "    ('At Home Coffee',),\n",
    "    ('Merchandise',)\n",
    "]\n",
    "\n",
    "insert_query = \"INSERT INTO category (categories) VALUES (?)\"\n",
    "\n",
    "cursor.executemany(insert_query, cat_name)"
   ]
  },
  {
   "cell_type": "code",
   "execution_count": 87,
   "metadata": {},
   "outputs": [
    {
     "name": "stdout",
     "output_type": "stream",
     "text": [
      "(1, 'Drinks')\n",
      "(2, 'Food')\n",
      "(3, 'At Home Coffee')\n",
      "(4, 'Merchandise')\n"
     ]
    }
   ],
   "source": [
    "# Execute a SELECT query to fetch all rows from the table\n",
    "cursor.execute(\"SELECT * FROM category\")\n",
    "rows = cursor.fetchall()\n",
    "\n",
    "# Display the retrieved data\n",
    "for row in rows:\n",
    "    print(row)"
   ]
  },
  {
   "cell_type": "code",
   "execution_count": 88,
   "metadata": {},
   "outputs": [],
   "source": [
    "conn.commit()"
   ]
  },
  {
   "cell_type": "code",
   "execution_count": 51,
   "metadata": {},
   "outputs": [
    {
     "data": {
      "text/plain": [
       "<sqlite3.Cursor at 0x108b7e040>"
      ]
     },
     "execution_count": 51,
     "metadata": {},
     "output_type": "execute_result"
    }
   ],
   "source": [
    "create_table = '''\n",
    "CREATE TABLE IF NOT EXISTS SUB_CATEGORIES (\n",
    "id INTEGER PRIMARY KEY UNIQUE NOT NULL,\n",
    "category_id INTEGER NOT NULL,\n",
    "sub_categories TEXT NOT NULL\n",
    ")\n",
    "'''\n",
    "cursor.execute(create_table)"
   ]
  },
  {
   "cell_type": "code",
   "execution_count": 52,
   "metadata": {},
   "outputs": [
    {
     "data": {
      "text/plain": [
       "<sqlite3.Cursor at 0x108b7e040>"
      ]
     },
     "execution_count": 52,
     "metadata": {},
     "output_type": "execute_result"
    }
   ],
   "source": [
    "cursor.execute('SELECT * FROM SUB_CATEGORIES')"
   ]
  },
  {
   "cell_type": "code",
   "execution_count": 53,
   "metadata": {},
   "outputs": [],
   "source": [
    "sub_cat = [\n",
    "    ('Drinks',),\n",
    "    ('Food',),\n",
    "    ('At Home Coffee',),\n",
    "    ('Merchandise',)\n",
    "]\n",
    "\n",
    "insert_query = \"INSERT INTO MENU (categories) VALUES (?)\""
   ]
  },
  {
   "cell_type": "code",
   "execution_count": 54,
   "metadata": {},
   "outputs": [
    {
     "name": "stdout",
     "output_type": "stream",
     "text": [
      "(1, 'Drinks')\n",
      "(2, 'Food')\n",
      "(3, 'At Home Coffee')\n",
      "(4, 'Merchandise')\n",
      "(5, 'Drinks')\n",
      "(6, 'Food')\n",
      "(7, 'At Home Coffee')\n",
      "(8, 'Merchandise')\n"
     ]
    }
   ],
   "source": [
    "cursor.execute('SELECT * FROM MENU')\n",
    "rows = cursor.fetchall()\n",
    "\n",
    "# Display the retrieved data\n",
    "for row in rows:\n",
    "    print(row)"
   ]
  },
  {
   "cell_type": "code",
   "execution_count": 55,
   "metadata": {},
   "outputs": [],
   "source": [
    "conn.commit()"
   ]
  },
  {
   "cell_type": "code",
   "execution_count": 56,
   "metadata": {},
   "outputs": [
    {
     "data": {
      "text/plain": [
       "[{'cat_id': 1, 'sub_cat': 'Whole Bean', 'img_path': './menu/Whole Bean.jpg'},\n",
       " {'cat_id': 1, 'sub_cat': 'Iced Teas', 'img_path': './menu/Iced Teas.jpg'},\n",
       " {'cat_id': 2,\n",
       "  'sub_cat': 'Snacks & Sweets',\n",
       "  'img_path': './menu/Snacks & Sweets.jpg'},\n",
       " {'cat_id': 2, 'sub_cat': 'Bakery', 'img_path': './menu/Bakery.jpg'},\n",
       " {'cat_id': 2,\n",
       "  'sub_cat': 'Oatmeal & Yogurt',\n",
       "  'img_path': './menu/Oatmeal & Yogurt.jpg'},\n",
       " {'cat_id': 1,\n",
       "  'sub_cat': 'Cold Coffees',\n",
       "  'img_path': './menu/Cold Coffees.jpg'},\n",
       " {'cat_id': 2,\n",
       "  'sub_cat': 'Hot Breakfast',\n",
       "  'img_path': './menu/Hot Breakfast.jpg'},\n",
       " {'cat_id': 1, 'sub_cat': 'Hot Teas', 'img_path': './menu/Hot Teas.jpg'},\n",
       " {'cat_id': 4, 'sub_cat': 'Mugs', 'img_path': './menu/Mugs.jpg'},\n",
       " {'cat_id': 4, 'sub_cat': 'Other', 'img_path': './menu/Other.jpg'},\n",
       " {'cat_id': 3,\n",
       "  'sub_cat': 'VIA® Instant',\n",
       "  'img_path': './menu/VIA® Instant.jpg'},\n",
       " {'cat_id': 1, 'sub_cat': 'Cold Drinks', 'img_path': './menu/Cold Drinks.jpg'},\n",
       " {'cat_id': 1, 'sub_cat': 'Hot Drinks', 'img_path': './menu/Hot Drinks.jpg'},\n",
       " {'cat_id': 4, 'sub_cat': 'Tumblers', 'img_path': './menu/Tumblers.jpg'},\n",
       " {'cat_id': 1, 'sub_cat': 'Oleato™', 'img_path': './menu/Oleato™.jpg'},\n",
       " {'cat_id': 1, 'sub_cat': 'Hot Coffees', 'img_path': './menu/Hot Coffees.jpg'},\n",
       " {'cat_id': 1,\n",
       "  'sub_cat': 'Frappuccino® Blended Beverages',\n",
       "  'img_path': './menu/Frappuccino® Blended Beverages.jpg'},\n",
       " {'cat_id': 2, 'sub_cat': 'Lunch', 'img_path': './menu/Lunch.jpg'},\n",
       " {'cat_id': 4, 'sub_cat': 'Cold Cups', 'img_path': './menu/Cold Cups.jpg'}]"
      ]
     },
     "execution_count": 56,
     "metadata": {},
     "output_type": "execute_result"
    }
   ],
   "source": [
    "[{'cat_id':1, 'sub_cat': 'Whole Bean', 'img_path': './menu/Whole Bean.jpg'},\n",
    " {'cat_id':1, 'sub_cat': 'Iced Teas', 'img_path': './menu/Iced Teas.jpg'},\n",
    " {'cat_id':2, 'sub_cat': 'Snacks & Sweets', 'img_path': './menu/Snacks & Sweets.jpg'},\n",
    " {'cat_id':2, 'sub_cat': 'Bakery', 'img_path': './menu/Bakery.jpg'},\n",
    " {'cat_id':2, 'sub_cat': 'Oatmeal & Yogurt',\n",
    "  'img_path': './menu/Oatmeal & Yogurt.jpg'},\n",
    " {'cat_id':1, 'sub_cat': 'Cold Coffees', 'img_path': './menu/Cold Coffees.jpg'},\n",
    " {'cat_id':2, 'sub_cat': 'Hot Breakfast', 'img_path': './menu/Hot Breakfast.jpg'},\n",
    " {'cat_id':1, 'sub_cat': 'Hot Teas', 'img_path': './menu/Hot Teas.jpg'},\n",
    " {'cat_id':4, 'sub_cat': 'Mugs', 'img_path': './menu/Mugs.jpg'},\n",
    " {'cat_id':4, 'sub_cat': 'Other', 'img_path': './menu/Other.jpg'},\n",
    " {'cat_id':3, 'sub_cat': 'VIA® Instant', 'img_path': './menu/VIA® Instant.jpg'},\n",
    " {'cat_id':1, 'sub_cat': 'Cold Drinks', 'img_path': './menu/Cold Drinks.jpg'},\n",
    " {'cat_id':1, 'sub_cat': 'Hot Drinks', 'img_path': './menu/Hot Drinks.jpg'},\n",
    " {'cat_id':4, 'sub_cat': 'Tumblers', 'img_path': './menu/Tumblers.jpg'},\n",
    " {'cat_id':1, 'sub_cat': 'Oleato™', 'img_path': './menu/Oleato™.jpg'},\n",
    " {'cat_id':1, 'sub_cat': 'Hot Coffees', 'img_path': './menu/Hot Coffees.jpg'},\n",
    " {'cat_id':1, 'sub_cat': 'Frappuccino® Blended Beverages',\n",
    "  'img_path': './menu/Frappuccino® Blended Beverages.jpg'},\n",
    " {'cat_id':2, 'sub_cat': 'Lunch', 'img_path': './menu/Lunch.jpg'},\n",
    " {'cat_id':4, 'sub_cat': 'Cold Cups', 'img_path': './menu/Cold Cups.jpg'}]"
   ]
  },
  {
   "cell_type": "code",
   "execution_count": null,
   "metadata": {},
   "outputs": [],
   "source": [
    "insert_cat_data = '''\n",
    "INSERT INTO sub_category (category_id, sub_category, image_path) VALUES (?, ?, ?)\n",
    "'''"
   ]
  },
  {
   "cell_type": "code",
   "execution_count": null,
   "metadata": {},
   "outputs": [],
   "source": [
    "data = [{'cat_id':3, 'sub_cat': 'Whole Bean', 'img_path': './menu/Whole Bean.jpg'},\n",
    " {'cat_id':1, 'sub_cat': 'Iced Teas', 'img_path': './menu/Iced Teas.jpg'},\n",
    " {'cat_id':2, 'sub_cat': 'Snacks & Sweets', 'img_path': './menu/Snacks & Sweets.jpg'},\n",
    " {'cat_id':2, 'sub_cat': 'Bakery', 'img_path': './menu/Bakery.jpg'},\n",
    " {'cat_id':2, 'sub_cat': 'Oatmeal & Yogurt',\n",
    "  'img_path': './menu/Oatmeal & Yogurt.jpg'},\n",
    " {'cat_id':1, 'sub_cat': 'Cold Coffees', 'img_path': './menu/Cold Coffees.jpg'},\n",
    " {'cat_id':2, 'sub_cat': 'Hot Breakfast', 'img_path': './menu/Hot Breakfast.jpg'},\n",
    " {'cat_id':1, 'sub_cat': 'Hot Teas', 'img_path': './menu/Hot Teas.jpg'},\n",
    " {'cat_id':4, 'sub_cat': 'Mugs', 'img_path': './menu/Mugs.jpg'},\n",
    " {'cat_id':4, 'sub_cat': 'Other', 'img_path': './menu/Other.jpg'},\n",
    " {'cat_id':3, 'sub_cat': 'VIA® Instant', 'img_path': './menu/VIA® Instant.jpg'},\n",
    " {'cat_id':1, 'sub_cat': 'Cold Drinks', 'img_path': './menu/Cold Drinks.jpg'},\n",
    " {'cat_id':1, 'sub_cat': 'Hot Drinks', 'img_path': './menu/Hot Drinks.jpg'},\n",
    " {'cat_id':4, 'sub_cat': 'Tumblers', 'img_path': './menu/Tumblers.jpg'},\n",
    " {'cat_id':1, 'sub_cat': 'Oleato™', 'img_path': './menu/Oleato™.jpg'},\n",
    " {'cat_id':1, 'sub_cat': 'Hot Coffees', 'img_path': './menu/Hot Coffees.jpg'},\n",
    " {'cat_id':1, 'sub_cat': 'Frappuccino® Blended Beverages',\n",
    "  'img_path': './menu/Frappuccino® Blended Beverages.jpg'},\n",
    " {'cat_id':2, 'sub_cat': 'Lunch', 'img_path': './menu/Lunch.jpg'},\n",
    " {'cat_id':4, 'sub_cat': 'Cold Cups', 'img_path': './menu/Cold Cups.jpg'}]"
   ]
  },
  {
   "cell_type": "code",
   "execution_count": null,
   "metadata": {},
   "outputs": [],
   "source": [
    "for item in data:\n",
    "    category_id = item['cat_id']\n",
    "    sub_category = item['sub_cat']\n",
    "    image_path = item['img_path']\n",
    "    cursor.execute(insert_cat_data, (category_id, sub_category, image_path))"
   ]
  },
  {
   "cell_type": "code",
   "execution_count": null,
   "metadata": {},
   "outputs": [
    {
     "name": "stdout",
     "output_type": "stream",
     "text": [
      "(1, 1, 'Whole Bean', './menu/Whole Bean.jpg')\n",
      "(2, 1, 'Iced Teas', './menu/Iced Teas.jpg')\n",
      "(3, 2, 'Snacks & Sweets', './menu/Snacks & Sweets.jpg')\n",
      "(4, 2, 'Bakery', './menu/Bakery.jpg')\n",
      "(5, 2, 'Oatmeal & Yogurt', './menu/Oatmeal & Yogurt.jpg')\n",
      "(6, 1, 'Cold Coffees', './menu/Cold Coffees.jpg')\n",
      "(7, 2, 'Hot Breakfast', './menu/Hot Breakfast.jpg')\n",
      "(8, 1, 'Hot Teas', './menu/Hot Teas.jpg')\n",
      "(9, 4, 'Mugs', './menu/Mugs.jpg')\n",
      "(10, 4, 'Other', './menu/Other.jpg')\n",
      "(11, 3, 'VIA® Instant', './menu/VIA® Instant.jpg')\n",
      "(12, 1, 'Cold Drinks', './menu/Cold Drinks.jpg')\n",
      "(13, 1, 'Hot Drinks', './menu/Hot Drinks.jpg')\n",
      "(14, 4, 'Tumblers', './menu/Tumblers.jpg')\n",
      "(15, 1, 'Oleato™', './menu/Oleato™.jpg')\n",
      "(16, 1, 'Hot Coffees', './menu/Hot Coffees.jpg')\n",
      "(17, 1, 'Frappuccino® Blended Beverages', './menu/Frappuccino® Blended Beverages.jpg')\n",
      "(18, 2, 'Lunch', './menu/Lunch.jpg')\n",
      "(19, 4, 'Cold Cups', './menu/Cold Cups.jpg')\n"
     ]
    }
   ],
   "source": [
    "cursor.execute('SELECT * FROM sub_category')\n",
    "\n",
    "rows = cursor.fetchall()\n",
    "\n",
    "# Display the retrieved data\n",
    "for row in rows:\n",
    "    print(row)"
   ]
  },
  {
   "cell_type": "code",
   "execution_count": null,
   "metadata": {},
   "outputs": [],
   "source": [
    "conn.commit()"
   ]
  },
  {
   "cell_type": "code",
   "execution_count": null,
   "metadata": {},
   "outputs": [
    {
     "data": {
      "text/plain": [
       "<sqlite3.Cursor at 0x108b38340>"
      ]
     },
     "execution_count": 25,
     "metadata": {},
     "output_type": "execute_result"
    }
   ],
   "source": [
    "create_cold_coffee_type_table = '''\n",
    "CREATE TABLE cold_coffee_types (\n",
    "    id INTEGER PRIMARY KEY UNIQUE NOT NULL,\n",
    "    type TEXT\n",
    ")\n",
    "'''\n",
    "\n",
    "cursor.execute(create_cold_coffee_type_table)"
   ]
  },
  {
   "cell_type": "code",
   "execution_count": null,
   "metadata": {},
   "outputs": [
    {
     "data": {
      "text/plain": [
       "<sqlite3.Cursor at 0x108b38340>"
      ]
     },
     "execution_count": 31,
     "metadata": {},
     "output_type": "execute_result"
    }
   ],
   "source": [
    "cold_coffee_types = [\n",
    "    ('Cold Brews',),\n",
    "    ('Nitro Cold Brews',),\n",
    "    ('Iced Americano',),\n",
    "    ('Iced Coffees',),\n",
    "    ('Iced Shaken Espresso',),\n",
    "    ('Iced Flat Whites',),\n",
    "    ('Iced Lattes',),\n",
    "    ('Iced Macchiatos',),\n",
    "    ('Iced Mochas',)\n",
    "\n",
    "\n",
    "]\n",
    "\n",
    "insert_cold_coffee_type = \"INSERT INTO cold_coffee_types (type) VALUES (?)\"\n",
    "\n",
    "cursor.executemany(insert_cold_coffee_type, cold_coffee_types)"
   ]
  },
  {
   "cell_type": "code",
   "execution_count": null,
   "metadata": {},
   "outputs": [
    {
     "name": "stdout",
     "output_type": "stream",
     "text": [
      "(1, 'Cold Brews')\n",
      "(2, 'Nitro Cold Brews')\n",
      "(3, 'Iced Americano')\n",
      "(4, 'Iced Coffees')\n",
      "(5, 'Iced Shaken Espresso')\n",
      "(6, 'Iced Flat Whites')\n",
      "(7, 'Iced Lattes')\n",
      "(8, 'Iced Macchiatos')\n",
      "(9, 'Iced Mochas')\n"
     ]
    }
   ],
   "source": [
    "cursor.execute('SELECT * FROM cold_coffee_types')\n",
    "rows = cursor.fetchall()\n",
    "for row in rows:\n",
    "    print(row)"
   ]
  },
  {
   "cell_type": "code",
   "execution_count": null,
   "metadata": {},
   "outputs": [],
   "source": [
    "conn.commit()"
   ]
  },
  {
   "cell_type": "code",
   "execution_count": null,
   "metadata": {},
   "outputs": [
    {
     "data": {
      "text/plain": [
       "<sqlite3.Cursor at 0x108b38340>"
      ]
     },
     "execution_count": 36,
     "metadata": {},
     "output_type": "execute_result"
    }
   ],
   "source": [
    "cursor.execute('''\n",
    "ALTER TABLE cold_coffee_types\n",
    "               ADD COLUMN sub_category_id INTEGER\n",
    "''')"
   ]
  },
  {
   "cell_type": "code",
   "execution_count": null,
   "metadata": {},
   "outputs": [
    {
     "data": {
      "text/plain": [
       "<sqlite3.Cursor at 0x108b38340>"
      ]
     },
     "execution_count": 37,
     "metadata": {},
     "output_type": "execute_result"
    }
   ],
   "source": [
    "cursor.execute('''\n",
    "ALTER TABLE cold_coffee_types\n",
    "               RENAME TO item_types\n",
    "''')"
   ]
  },
  {
   "cell_type": "code",
   "execution_count": null,
   "metadata": {},
   "outputs": [
    {
     "data": {
      "text/plain": [
       "<sqlite3.Cursor at 0x108b38340>"
      ]
     },
     "execution_count": 38,
     "metadata": {},
     "output_type": "execute_result"
    }
   ],
   "source": [
    "# Add values to the new column\n",
    "update_item_types = '''\n",
    "UPDATE item_types\n",
    "SET sub_category_id = 6\n",
    "WHERE sub_category_id IS NULL\n",
    "'''\n",
    "\n",
    "cursor.execute(update_item_types)"
   ]
  },
  {
   "cell_type": "code",
   "execution_count": null,
   "metadata": {},
   "outputs": [],
   "source": [
    "conn.commit()"
   ]
  },
  {
   "cell_type": "code",
   "execution_count": null,
   "metadata": {},
   "outputs": [
    {
     "data": {
      "text/plain": [
       "<sqlite3.Cursor at 0x108b38340>"
      ]
     },
     "execution_count": 40,
     "metadata": {},
     "output_type": "execute_result"
    }
   ],
   "source": [
    "create_item_table = '''\n",
    "CREATE TABLE item_table (\n",
    "    id INTEGER PRIMARY KEY UNIQUE NOT NULL,\n",
    "    type_id INTEGER NOT NULL,\n",
    "    item_name TEXT NOT NULL,\n",
    "    item_img_path TEXT\n",
    ")\n",
    "'''\n",
    "cursor.execute(create_item_table)"
   ]
  },
  {
   "cell_type": "code",
   "execution_count": null,
   "metadata": {},
   "outputs": [],
   "source": [
    "cold_coffee_items = [\n",
    "    {'type_id': 5, 'item_name': 'Iced Chocolate Almondmilk Shaken Espresso', 'img_path': './drinks/cold_coffees/Iced Chocolate Almondmilk Shaken Espresso.jpg'},\n",
    "    {'type_id': 1, 'item_name': 'White Chocolate Macadamia Cream Cold Brew', 'img_path': './drinks/cold_coffees/White Chocolate Macadamia Cream Cold Brew.jpg'},\n",
    "    {'type_id': 8, 'item_name': 'Iced Caramel Macchiato', 'img_path': './drinks/cold_coffees/Iced Caramel Macchiato.jpg'},\n",
    "    {'type_id': 9, 'item_name': 'Iced White Chocolate Mocha', 'img_path': './drinks/cold_coffees/Iced White Chocolate Mocha.jpg'},\n",
    "    {'type_id': 5, 'item_name': 'Iced Toasted Vanilla Oatmilk Shaken Espresso', 'img_path': './drinks/cold_coffees/Iced Toasted Vanilla Oatmilk Shaken Espresso.jpg'},\n",
    "    {'type_id': 1, 'item_name': 'Starbucks® Cold Brew Coffee', 'img_path': './drinks/cold_coffees/Starbucks® Cold Brew Coffee.jpg'},\n",
    "    {'type_id': 6, 'item_name': 'Iced Honey Almondmilk Flat White', 'img_path': './drinks/cold_coffees/Iced Honey Almondmilk Flat White.jpg'},\n",
    "    {'type_id': 4, 'item_name': 'Iced Espresso', 'img_path': './drinks/cold_coffees/Iced Espresso.jpg'},\n",
    "    {'type_id': 9, 'item_name': 'Iced Caffè Mocha', 'img_path': './drinks/cold_coffees/Iced Caffè Mocha.jpg'},\n",
    "    {'type_id': 7, 'item_name': 'Iced Cinnamon Dolce Latte', 'img_path': './drinks/cold_coffees/Iced Cinnamon Dolce Latte.jpg'},\n",
    "    {'type_id': 5, 'item_name': 'Iced Shaken Espresso', 'img_path': './drinks/cold_coffees/Iced Shaken Espresso.jpg'},\n",
    "    {'type_id': 7, 'item_name': 'Iced Caffè Latte', 'img_path': './drinks/cold_coffees/Iced Caffè Latte.jpg'},\n",
    "    {'type_id': 9, 'item_name': 'Starbucks Reserve® Iced Dark Chocolate Mocha', 'img_path': './drinks/cold_coffees/Starbucks Reserve® Iced Dark Chocolate Mocha.jpg'},\n",
    "    {'type_id': 5, 'item_name': 'Oleato™ Iced Shaken Espresso with Oatmilk and Toffeenut', 'img_path': './drinks/cold_coffees/Oleato™ Iced Shaken Espresso with Oatmilk and Toffeenut.jpg'},\n",
    "    {'type_id': 4, 'item_name': 'Iced Coffee', 'img_path': './drinks/cold_coffees/Iced Coffee.jpg'},\n",
    "    {'type_id': 7, 'item_name': 'Starbucks Reserve® Iced Hazelnut Bianco Latte', 'img_path': './drinks/cold_coffees/Starbucks Reserve® Iced Hazelnut Bianco Latte.jpg'},\n",
    "    {'type_id': 1, 'item_name': 'Vanilla Sweet Cream Cold Brew', 'img_path': './drinks/cold_coffees/Vanilla Sweet Cream Cold Brew.jpg'},\n",
    "    {'type_id': 4, 'item_name': 'Iced Coffee with Milk', 'img_path': './drinks/cold_coffees/Iced Coffee with Milk.jpg'},\n",
    "    {'type_id': 1, 'item_name': 'Cinnamon Caramel Cream Cold Brew', 'img_path': './drinks/cold_coffees/Cinnamon Caramel Cream Cold Brew.jpg'},\n",
    "    {'type_id': 2, 'item_name': 'Nitro Cold Brew', 'img_path': './drinks/cold_coffees/Nitro Cold Brew.jpg'},\n",
    "    {'type_id': 1, 'item_name': 'Salted Caramel Cream Cold Brew', 'img_path': './drinks/cold_coffees/Salted Caramel Cream Cold Brew.jpg'},\n",
    "    {'type_id': 6, 'item_name': 'Iced Flat White', 'img_path': './drinks/cold_coffees/Iced Flat White.jpg'},\n",
    "    {'type_id': 2, 'item_name': 'Cinnamon Caramel Cream Nitro Cold Brew', 'img_path': './drinks/cold_coffees/Cinnamon Caramel Cream Nitro Cold Brew.jpg'},\n",
    "    {'type_id': 3, 'item_name': 'Iced Caffè Americano', 'img_path': './drinks/cold_coffees/Iced Caffè Americano.jpg'},\n",
    "    {'type_id': 1, 'item_name': 'Chocolate Cream Cold Brew', 'img_path': './drinks/cold_coffees/Chocolate Cream Cold Brew.jpg'},\n",
    "    {'type_id': 7, 'item_name': 'Starbucks Reserve® Iced Latte', 'img_path': './drinks/cold_coffees/Starbucks Reserve® Iced Latte.jpg'},\n",
    "    {'type_id': 7, 'item_name': 'Iced Starbucks® Blonde Vanilla Latte', 'img_path': './drinks/cold_coffees/Iced Starbucks® Blonde Vanilla Latte.jpg'},\n",
    "    {'type_id': 1, 'item_name': 'Starbucks® Cold Brew Coffee with Milk', 'img_path': './drinks/cold_coffees/Starbucks® Cold Brew Coffee with Milk.jpg'},\n",
    "    {'type_id': 5, 'item_name': 'Iced Brown Sugar Oatmilk Shaken Espresso', 'img_path': './drinks/cold_coffees/Iced Brown Sugar Oatmilk Shaken Espresso.jpg'},\n",
    "    {'type_id': 2, 'item_name': 'Vanilla Sweet Cream Nitro Cold Brew', 'img_path': './drinks/cold_coffees/Vanilla Sweet Cream Nitro Cold Brew.jpg'},\n",
    "    {'type_id': 1, 'item_name': 'Oleato Golden Foam™ Cold Brew', 'img_path': './drinks/cold_coffees/Oleato Golden Foam™ Cold Brew.jpg'}\n",
    "]"
   ]
  },
  {
   "cell_type": "code",
   "execution_count": 58,
   "metadata": {},
   "outputs": [],
   "source": [
    "def addItem(itemsList):\n",
    "    insert_items = '''\n",
    "INSERT INTO item_table (type_id, item_name, item_img_path) VALUES (?, ?, ?)\n",
    "'''\n",
    "    for item in itemsList:\n",
    "        type_id = item['type_id']\n",
    "        item_name = item['item_name']\n",
    "        item_img_path = item['img_path']\n",
    "        cursor.execute(insert_items, (type_id, item_name, item_img_path))"
   ]
  },
  {
   "cell_type": "code",
   "execution_count": 59,
   "metadata": {},
   "outputs": [],
   "source": [
    "addItem(cold_coffee_items)"
   ]
  },
  {
   "cell_type": "code",
   "execution_count": 60,
   "metadata": {},
   "outputs": [
    {
     "name": "stdout",
     "output_type": "stream",
     "text": [
      "(1, 5, 'Iced Chocolate Almondmilk Shaken Espresso', './drinks/cold_coffees/Iced Chocolate Almondmilk Shaken Espresso.jpg')\n",
      "(2, 1, 'White Chocolate Macadamia Cream Cold Brew', './drinks/cold_coffees/White Chocolate Macadamia Cream Cold Brew.jpg')\n",
      "(3, 8, 'Iced Caramel Macchiato', './drinks/cold_coffees/Iced Caramel Macchiato.jpg')\n",
      "(4, 9, 'Iced White Chocolate Mocha', './drinks/cold_coffees/Iced White Chocolate Mocha.jpg')\n",
      "(5, 5, 'Iced Toasted Vanilla Oatmilk Shaken Espresso', './drinks/cold_coffees/Iced Toasted Vanilla Oatmilk Shaken Espresso.jpg')\n",
      "(6, 1, 'Starbucks® Cold Brew Coffee', './drinks/cold_coffees/Starbucks® Cold Brew Coffee.jpg')\n",
      "(7, 6, 'Iced Honey Almondmilk Flat White', './drinks/cold_coffees/Iced Honey Almondmilk Flat White.jpg')\n",
      "(8, 4, 'Iced Espresso', './drinks/cold_coffees/Iced Espresso.jpg')\n",
      "(9, 9, 'Iced Caffè Mocha', './drinks/cold_coffees/Iced Caffè Mocha.jpg')\n",
      "(10, 7, 'Iced Cinnamon Dolce Latte', './drinks/cold_coffees/Iced Cinnamon Dolce Latte.jpg')\n",
      "(11, 5, 'Iced Shaken Espresso', './drinks/cold_coffees/Iced Shaken Espresso.jpg')\n",
      "(12, 7, 'Iced Caffè Latte', './drinks/cold_coffees/Iced Caffè Latte.jpg')\n",
      "(13, 9, 'Starbucks Reserve® Iced Dark Chocolate Mocha', './drinks/cold_coffees/Starbucks Reserve® Iced Dark Chocolate Mocha.jpg')\n",
      "(14, 5, 'Oleato™ Iced Shaken Espresso with Oatmilk and Toffeenut', './drinks/cold_coffees/Oleato™ Iced Shaken Espresso with Oatmilk and Toffeenut.jpg')\n",
      "(15, 4, 'Iced Coffee', './drinks/cold_coffees/Iced Coffee.jpg')\n",
      "(16, 7, 'Starbucks Reserve® Iced Hazelnut Bianco Latte', './drinks/cold_coffees/Starbucks Reserve® Iced Hazelnut Bianco Latte.jpg')\n",
      "(17, 1, 'Vanilla Sweet Cream Cold Brew', './drinks/cold_coffees/Vanilla Sweet Cream Cold Brew.jpg')\n",
      "(18, 4, 'Iced Coffee with Milk', './drinks/cold_coffees/Iced Coffee with Milk.jpg')\n",
      "(19, 1, 'Cinnamon Caramel Cream Cold Brew', './drinks/cold_coffees/Cinnamon Caramel Cream Cold Brew.jpg')\n",
      "(20, 2, 'Nitro Cold Brew', './drinks/cold_coffees/Nitro Cold Brew.jpg')\n",
      "(21, 1, 'Salted Caramel Cream Cold Brew', './drinks/cold_coffees/Salted Caramel Cream Cold Brew.jpg')\n",
      "(22, 6, 'Iced Flat White', './drinks/cold_coffees/Iced Flat White.jpg')\n",
      "(23, 2, 'Cinnamon Caramel Cream Nitro Cold Brew', './drinks/cold_coffees/Cinnamon Caramel Cream Nitro Cold Brew.jpg')\n",
      "(24, 3, 'Iced Caffè Americano', './drinks/cold_coffees/Iced Caffè Americano.jpg')\n",
      "(25, 1, 'Chocolate Cream Cold Brew', './drinks/cold_coffees/Chocolate Cream Cold Brew.jpg')\n",
      "(26, 7, 'Starbucks Reserve® Iced Latte', './drinks/cold_coffees/Starbucks Reserve® Iced Latte.jpg')\n",
      "(27, 7, 'Iced Starbucks® Blonde Vanilla Latte', './drinks/cold_coffees/Iced Starbucks® Blonde Vanilla Latte.jpg')\n",
      "(28, 1, 'Starbucks® Cold Brew Coffee with Milk', './drinks/cold_coffees/Starbucks® Cold Brew Coffee with Milk.jpg')\n",
      "(29, 5, 'Iced Brown Sugar Oatmilk Shaken Espresso', './drinks/cold_coffees/Iced Brown Sugar Oatmilk Shaken Espresso.jpg')\n",
      "(30, 2, 'Vanilla Sweet Cream Nitro Cold Brew', './drinks/cold_coffees/Vanilla Sweet Cream Nitro Cold Brew.jpg')\n",
      "(31, 1, 'Oleato Golden Foam™ Cold Brew', './drinks/cold_coffees/Oleato Golden Foam™ Cold Brew.jpg')\n"
     ]
    }
   ],
   "source": [
    "cursor.execute('SELECT * FROM item_table')\n",
    "\n",
    "rows = cursor.fetchall()\n",
    "for row in rows:\n",
    "    print(row)"
   ]
  },
  {
   "cell_type": "code",
   "execution_count": 61,
   "metadata": {},
   "outputs": [],
   "source": [
    "conn.commit()"
   ]
  },
  {
   "cell_type": "code",
   "execution_count": 62,
   "metadata": {},
   "outputs": [
    {
     "data": {
      "text/plain": [
       "<sqlite3.Cursor at 0x108b7e040>"
      ]
     },
     "execution_count": 62,
     "metadata": {},
     "output_type": "execute_result"
    }
   ],
   "source": [
    "cursor.execute('DROP TABLE IF EXISTS SUB_CATEGORIES')"
   ]
  },
  {
   "cell_type": "code",
   "execution_count": 63,
   "metadata": {},
   "outputs": [],
   "source": [
    "conn.commit()"
   ]
  },
  {
   "cell_type": "code",
   "execution_count": 64,
   "metadata": {},
   "outputs": [
    {
     "data": {
      "text/plain": [
       "<sqlite3.Cursor at 0x108b7e040>"
      ]
     },
     "execution_count": 64,
     "metadata": {},
     "output_type": "execute_result"
    }
   ],
   "source": [
    "cursor.execute('''\n",
    "UPDATE sub_category\n",
    "SET category_id = 3\n",
    "WHERE sub_category = 'Whole Bean' \n",
    "''')"
   ]
  },
  {
   "cell_type": "code",
   "execution_count": 67,
   "metadata": {},
   "outputs": [
    {
     "data": {
      "text/plain": [
       "<sqlite3.Cursor at 0x108b7e040>"
      ]
     },
     "execution_count": 67,
     "metadata": {},
     "output_type": "execute_result"
    }
   ],
   "source": [
    "cursor.execute('''\n",
    "ALTER TABLE MENU\n",
    "               RENAME TO category\n",
    "''')"
   ]
  },
  {
   "cell_type": "code",
   "execution_count": 68,
   "metadata": {},
   "outputs": [],
   "source": [
    "conn.commit()"
   ]
  },
  {
   "cell_type": "code",
   "execution_count": 69,
   "metadata": {},
   "outputs": [],
   "source": [
    "insert_new_types = [\n",
    "    {'type': 'Oleato', 'sub_cat_id':15},\n",
    "    {'type': 'Americanos', 'sub_cat_id':16},\n",
    "    {'type': 'Brewed Coffees', 'sub_cat_id':16},\n",
    "    {'type': 'Cappuccinos', 'sub_cat_id':16},\n",
    "    {'type': 'Espresso Shots', 'sub_cat_id':16},\n",
    "    {'type': 'Flat Whites', 'sub_cat_id':16},\n",
    "    {'type': 'Lattes', 'sub_cat_id':16},\n",
    "    {'type': 'Macchiato', 'sub_cat_id':16},\n",
    "    {'type': 'Mochas', 'sub_cat_id':16},\n",
    "    {'type': 'Coffee Travelers', 'sub_cat_id':16},\n",
    "    {'type': 'Chai Teas', 'sub_cat_id':8},\n",
    "    {'type': 'Black Teas', 'sub_cat_id':8},\n",
    "    {'type': 'Green Teas', 'sub_cat_id':8},\n",
    "    {'type': 'Herbal Teas', 'sub_cat_id':8},\n",
    "    {'type': 'Hot Chocolates', 'sub_cat_id':13},\n",
    "    {'type': 'Juice', 'sub_cat_id':13},\n",
    "    {'type': 'Steamers', 'sub_cat_id':13},\n",
    "    {'type': 'Coffee Frappuccino®', 'sub_cat_id':17},\n",
    "    {'type': 'Creme Frappuccino®', 'sub_cat_id':17},\n",
    "    {'type': 'Bottled Teas', 'sub_cat_id':2},\n",
    "    {'type': 'Iced Black Teas', 'sub_cat_id':2},\n",
    "    {'type': 'Iced Chai Teas', 'sub_cat_id':2},\n",
    "    {'type': 'Iced Green Teas', 'sub_cat_id':2},\n",
    "    {'type': 'Iced Herbal Teas', 'sub_cat_id':2},\n",
    "    {'type': 'Starbucks Refreshers™', 'sub_cat_id':12},\n",
    "    {'type': 'Juice Bottle', 'sub_cat_id':12},\n",
    "    {'type': 'Milk', 'sub_cat_id':12},\n",
    "    {'type': 'Sparkling Water', 'sub_cat_id':12},\n",
    "    {'type': 'Water', 'sub_cat_id':12},\n",
    "]"
   ]
  },
  {
   "cell_type": "code",
   "execution_count": 70,
   "metadata": {},
   "outputs": [],
   "source": [
    "insert_new_types_query = '''\n",
    "INSERT INTO item_types (type, sub_category_id) VALUES (?, ?)\n",
    "'''"
   ]
  },
  {
   "cell_type": "code",
   "execution_count": 71,
   "metadata": {},
   "outputs": [],
   "source": [
    "for i in insert_new_types:\n",
    "    type = i['type']\n",
    "    sub_cat_id = i['sub_cat_id']\n",
    "    cursor.execute(insert_new_types_query, (type, sub_cat_id))"
   ]
  },
  {
   "cell_type": "code",
   "execution_count": 75,
   "metadata": {},
   "outputs": [],
   "source": [
    "conn.commit()"
   ]
  },
  {
   "cell_type": "code",
   "execution_count": 78,
   "metadata": {},
   "outputs": [],
   "source": [
    "frappucino = [\n",
    "    {'type_id': 27, 'item_name': 'Mocha Cookie Crumble Frappuccino®', 'img_path': './drinks/frappucino/Mocha Cookie Crumble Frappuccino®.jpg'},\n",
    "    {'type_id': 27, 'item_name': 'Coffee Frappuccino® Blended Beverage', 'img_path': './drinks/frappucino/Coffee Frappuccino® Blended Beverage.jpg'},\n",
    "    {'type_id': 28, 'item_name': 'Double Chocolaty Chip Crème Frappuccino® Blended Beverage', 'img_path': './drinks/frappucino/Double Chocolaty Chip Crème Frappuccino® Blended Beverage.jpg'},\n",
    "    {'type_id': 28, 'item_name': 'Vanilla Bean Crème Frappuccino® Blended Crème', 'img_path': './drinks/frappucino/Vanilla Bean Crème Frappuccino® Blended Crème.jpg'},\n",
    "    {'type_id': 28, 'item_name': 'Strawberry Crème Frappuccino® Blended Beverage', 'img_path': './drinks/frappucino/Strawberry Crème Frappuccino® Blended Beverage.jpg'},\n",
    "    {'type_id': 27, 'item_name': 'Mocha Frappuccino® Blended Beverage', 'img_path': './drinks/frappucino/Mocha Frappuccino® Blended Beverage.jpg'},\n",
    "    {'type_id': 28, 'item_name': 'Chocolate Mint Crème Frappuccino® Blended Beverage', 'img_path': './drinks/frappucino/Chocolate Mint Crème Frappuccino® Blended Beverage.jpg'},\n",
    "    {'type_id': 27, 'item_name': 'Caramel Ribbon Crunch Frappuccino® Blended Beverage', 'img_path': './drinks/frappucino/Caramel Ribbon Crunch Frappuccino® Blended Beverage.jpg'},\n",
    "    {'type_id': 27, 'item_name': 'Java Chip Frappuccino® Blended Beverage', 'img_path': './drinks/frappucino/Java Chip Frappuccino® Blended Beverage.jpg'},\n",
    "    {'type_id': 28, 'item_name': 'Caramel Ribbon Crunch Crème Frappuccino® Blended Beverage', 'img_path': './drinks/frappucino/Caramel Ribbon Crunch Crème Frappuccino® Blended Beverage.jpg'},\n",
    "    {'type_id': 27, 'item_name': 'Chocolate Java Mint Frappuccino® Blended Beverage', 'img_path': './drinks/frappucino/Chocolate Java Mint Frappuccino® Blended Beverage.jpg'},\n",
    "    {'type_id': 28, 'item_name': 'Chocolate Cookie Crumble Crème Frappuccino®', 'img_path': './drinks/frappucino/Chocolate Cookie Crumble Crème Frappuccino®.jpg'},\n",
    "    {'type_id': 27, 'item_name': 'Caramel Frappuccino® Blended Beverage', 'img_path': './drinks/frappucino/Caramel Frappuccino® Blended Beverage.jpg'},\n",
    "    {'type_id': 27, 'item_name': 'Espresso Frappuccino® Blended Beverage', 'img_path': './drinks/frappucino/Espresso Frappuccino® Blended Beverage.jpg'},\n",
    "    {'type_id': 27, 'item_name': 'Caffè Vanilla Frappuccino® Blended Beverage', 'img_path': './drinks/frappucino/Caffè Vanilla Frappuccino® Blended Beverage.jpg'},\n",
    "    {'type_id': 28, 'item_name': 'White Chocolate Crème Frappuccino® Blended Beverage', 'img_path': './drinks/frappucino/White Chocolate Crème Frappuccino® Blended Beverage.jpg'},\n",
    "    {'type_id': 28, 'item_name': 'Chai Crème Frappuccino®', 'img_path': './drinks/frappucino/Chai Crème Frappuccino®.jpg'},\n",
    "    {'type_id': 27, 'item_name': 'White Chocolate Mocha Frappuccino® Blended Beverage', 'img_path': './drinks/frappucino/White Chocolate Mocha Frappuccino® Blended Beverage.jpg'},\n",
    "    {'type_id': 28, 'item_name': 'Matcha Crème Frappuccino® Blended Beverage', 'img_path': './drinks/frappucino/Matcha Crème Frappuccino® Blended Beverage.jpg'}\n",
    "]"
   ]
  },
  {
   "cell_type": "code",
   "execution_count": 77,
   "metadata": {},
   "outputs": [
    {
     "name": "stdout",
     "output_type": "stream",
     "text": [
      "(27, 'Coffee Frappuccino®', 17)\n",
      "(28, 'Creme Frappuccino®', 17)\n"
     ]
    }
   ],
   "source": [
    "cursor.execute('''\n",
    "SELECT * FROM item_types\n",
    "               WHERE sub_category_id = 17 \n",
    "''')\n",
    "rows = cursor.fetchall()\n",
    "\n",
    "for row in rows:\n",
    "    print(row)"
   ]
  },
  {
   "cell_type": "code",
   "execution_count": 79,
   "metadata": {},
   "outputs": [],
   "source": [
    "addItem(frappucino)"
   ]
  },
  {
   "cell_type": "code",
   "execution_count": 80,
   "metadata": {},
   "outputs": [],
   "source": [
    "conn.commit()"
   ]
  },
  {
   "cell_type": "code",
   "execution_count": null,
   "metadata": {},
   "outputs": [],
   "source": []
  }
 ],
 "metadata": {
  "kernelspec": {
   "display_name": "base",
   "language": "python",
   "name": "python3"
  },
  "language_info": {
   "codemirror_mode": {
    "name": "ipython",
    "version": 3
   },
   "file_extension": ".py",
   "mimetype": "text/x-python",
   "name": "python",
   "nbconvert_exporter": "python",
   "pygments_lexer": "ipython3",
   "version": "3.10.9"
  },
  "orig_nbformat": 4
 },
 "nbformat": 4,
 "nbformat_minor": 2
}
